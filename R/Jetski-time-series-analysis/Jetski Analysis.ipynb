{
 "cells": [
  {
   "cell_type": "markdown",
   "source": [],
   "metadata": {
    "collapsed": false
   }
  },
  {
   "cell_type": "markdown",
   "source": [
    "# Python Script: Clean and Export Data for Jetski Business\n",
    "# Bookings, Revenue, and Ad Data Integration\n"
   ],
   "metadata": {
    "collapsed": false
   }
  },
  {
   "cell_type": "code",
   "outputs": [],
   "source": [
    "\n",
    "import pandas as pd\n",
    "\n",
    "# Load revenue data\n",
    "revenue_raw = pd.read_csv(\"revenue_by_day.csv\", header=1)\n",
    "\n",
    "# Rename columns explicitly\n",
    "revenue_raw.columns = [\n",
    "    \"Date\", \"Bookings\", \"Guests\", \"Subtotal\", \"Tax\",\n",
    "    \"Total\", \"Total_Paid\", \"Processing_Fees\", \"Total_Revenue\"\n",
    "]\n",
    "\n",
    "# Clean date and revenue values\n",
    "revenue_raw['Date'] = pd.to_datetime(revenue_raw['Date'], errors='coerce')\n",
    "revenue_raw['Total_Revenue'] = revenue_raw['Total_Revenue'].replace(r'[$,]', '', regex=True).astype(float)\n",
    "\n",
    "# Extract clean revenue data\n",
    "daily_revenue = revenue_raw[['Date', 'Total_Revenue']].dropna()"
   ],
   "metadata": {
    "collapsed": false,
    "ExecuteTime": {
     "end_time": "2025-04-09T02:23:38.020161700Z",
     "start_time": "2025-04-09T02:23:38.002127900Z"
    }
   },
   "execution_count": 76
  },
  {
   "cell_type": "code",
   "outputs": [],
   "source": [
    "# Load and clean ad spend data\n",
    "ads = pd.read_csv(\"ad_data.csv\")\n",
    "\n",
    "ads.head()\n",
    "\n",
    "ads['Starts'] = pd.to_datetime(ads['Starts'], errors='coerce')\n",
    "ads['Ends'] = pd.to_datetime(ads['Ends'], errors='coerce')\n",
    "ads['Amount Spent (USD)'] = pd.to_numeric(ads['Amount spent (USD)'], errors='coerce')\n",
    "ads = ads.dropna(subset=['Starts', 'Ends', 'Amount spent (USD)'])\n",
    "\n",
    "# Expand ads into daily rows\n",
    "daily_spend = []\n",
    "for _, row in ads.iterrows():\n",
    "    duration = (row['Ends'] - row['Starts']).days + 1\n",
    "    spend_per_day = row['Amount Spent (USD)'] / duration if duration > 0 else 0\n",
    "    for single_date in pd.date_range(start=row['Starts'], end=row['Ends']):\n",
    "        daily_spend.append({\"Date\": single_date, \"Spend_Per_Day\": spend_per_day})\n",
    "\n",
    "ad_spend = pd.DataFrame(daily_spend)\n",
    "daily_ad_spend = ad_spend.groupby(\"Date\")[\"Spend_Per_Day\"].sum().reset_index()"
   ],
   "metadata": {
    "collapsed": false,
    "ExecuteTime": {
     "end_time": "2025-04-09T02:23:30.103092800Z",
     "start_time": "2025-04-09T02:23:30.047896300Z"
    }
   },
   "execution_count": 72
  },
  {
   "cell_type": "code",
   "outputs": [],
   "source": [
    "# Merge and calculate ROAS\n",
    "merged = pd.merge(daily_ad_spend, daily_revenue, on=\"Date\", how=\"outer\")\n",
    "merged['Spend_Per_Day'] = merged['Spend_Per_Day'].fillna(0)\n",
    "merged['Total_Revenue'] = merged['Total_Revenue'].fillna(0)\n",
    "merged['ROAS'] = merged.apply(\n",
    "    lambda x: x['Total_Revenue'] / x['Spend_Per_Day'] if x['Spend_Per_Day'] > 0 else 0,\n",
    "    axis=1\n",
    ")"
   ],
   "metadata": {
    "collapsed": false,
    "ExecuteTime": {
     "end_time": "2025-04-09T02:23:45.674583100Z",
     "start_time": "2025-04-09T02:23:45.659871700Z"
    }
   },
   "execution_count": 77
  },
  {
   "cell_type": "code",
   "outputs": [],
   "source": [
    "# Total metrics\n",
    "spent_days = merged[merged['Spend_Per_Day'] > 0]\n",
    "total_ad_spend = spent_days['Spend_Per_Day'].sum()\n",
    "total_revenue = spent_days['Total_Revenue'].sum()\n",
    "total_roas = total_revenue / total_ad_spend if total_ad_spend > 0 else 0"
   ],
   "metadata": {
    "collapsed": false,
    "ExecuteTime": {
     "end_time": "2025-04-09T02:23:53.609629200Z",
     "start_time": "2025-04-09T02:23:53.595998200Z"
    }
   },
   "execution_count": 78
  },
  {
   "cell_type": "code",
   "outputs": [],
   "source": [
    "revenue_raw.to_csv(\"cleaned_daily_revenue.csv\", index=False)\n",
    "daily_ad_spend.to_csv(\"cleaned_daily_ad_spend.csv\", index=False)\n",
    "merged.to_csv(\"merged_revenue_adspend.csv\", index=False)\n",
    "spent_days.to_csv(\"spent_days.csv\", index=False)"
   ],
   "metadata": {
    "collapsed": false,
    "ExecuteTime": {
     "end_time": "2025-04-09T02:23:30.143705700Z",
     "start_time": "2025-04-09T02:23:30.081864300Z"
    }
   },
   "execution_count": 75
  }
 ],
 "metadata": {
  "kernelspec": {
   "display_name": "Python 3",
   "language": "python",
   "name": "python3"
  },
  "language_info": {
   "codemirror_mode": {
    "name": "ipython",
    "version": 3
   },
   "file_extension": ".py",
   "mimetype": "text/x-python",
   "name": "python",
   "nbconvert_exporter": "python",
   "pygments_lexer": "ipython3",
   "version": "3.8.16"
  }
 },
 "nbformat": 4,
 "nbformat_minor": 4
}
